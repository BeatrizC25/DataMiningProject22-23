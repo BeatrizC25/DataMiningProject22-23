{
 "cells": [
  {
   "cell_type": "markdown",
   "id": "14f33c97",
   "metadata": {},
   "source": [
    "## DATA MINING PROJECT  - Customer Segmentation\n",
    "\n",
    "**Group EZ**  \n",
    "**Group Members:**  \n",
    "Beatriz Carmo - 20220685  \n",
    "Marta Antunes - 20221094  \n",
    "Tomás Corte-Real - 20221639\n",
    "\n",
    "**Msc:** Data Science and Advanced Analytics - Major in Bussiness Ananlytics @ NOVA IMS  \n",
    "**Course:** Data Mining - 2022/2023\n",
    "\n",
    "GitHub Repository Link: https://github.com/BeatrizC25/DataMiningProject22-23.git"
   ]
  },
  {
   "cell_type": "markdown",
   "id": "e22f5e7d",
   "metadata": {},
   "source": [
    "# Table of Contents"
   ]
  },
  {
   "cell_type": "markdown",
   "id": "4737f957",
   "metadata": {},
   "source": [
    "# 1. Imports"
   ]
  },
  {
   "cell_type": "code",
   "execution_count": 1,
   "id": "d751741d",
   "metadata": {},
   "outputs": [
    {
     "data": {
      "application/javascript": [
       "IPython.notebook.set_autosave_interval(90000)"
      ]
     },
     "metadata": {},
     "output_type": "display_data"
    },
    {
     "name": "stdout",
     "output_type": "stream",
     "text": [
      "Autosaving every 90 seconds\n"
     ]
    }
   ],
   "source": [
    "%autosave 90\n",
    "\n",
    "import warnings\n",
    "warnings.filterwarnings('ignore')\n",
    "\n",
    "from os.path import join\n",
    "import pandas as pd\n",
    "import numpy as np\n",
    "import matplotlib.pyplot as plt\n",
    "import seaborn as sns\n",
    "from sklearn.cluster import AgglomerativeClustering\n",
    "from scipy.cluster.hierarchy import dendrogram\n",
    "\n",
    "sns.set()"
   ]
  },
  {
   "cell_type": "markdown",
   "id": "4cec0b81",
   "metadata": {},
   "source": [
    "## 2. Loading and Processing Data"
   ]
  },
  {
   "cell_type": "code",
   "execution_count": 2,
   "id": "e2c0d16f",
   "metadata": {},
   "outputs": [],
   "source": [
    "#loading file into a dataframe\n",
    "df_original=pd.read_sas('a2z_insurance.sas7bdat')"
   ]
  },
  {
   "cell_type": "code",
   "execution_count": 3,
   "id": "d7040e85",
   "metadata": {},
   "outputs": [],
   "source": [
    "#create a copy of the original dataframe\n",
    "df=df_original.copy()"
   ]
  },
  {
   "cell_type": "code",
   "execution_count": 4,
   "id": "491cf130",
   "metadata": {},
   "outputs": [
    {
     "name": "stdout",
     "output_type": "stream",
     "text": [
      "The dataset has a total of 10296 rows and 14 columns.\n"
     ]
    }
   ],
   "source": [
    "#check how many rows and columns the dataset has\n",
    "print('The dataset has a total of', df.shape[0], 'rows and', df.shape[1], 'columns.')"
   ]
  },
  {
   "cell_type": "markdown",
   "id": "70982184",
   "metadata": {},
   "source": [
    "**Notice there are 10296 columns in the dataset and only 10290 costumers.**"
   ]
  },
  {
   "cell_type": "code",
   "execution_count": 22,
   "id": "88b2493f",
   "metadata": {},
   "outputs": [
    {
     "data": {
      "text/html": [
       "<div>\n",
       "<style scoped>\n",
       "    .dataframe tbody tr th:only-of-type {\n",
       "        vertical-align: middle;\n",
       "    }\n",
       "\n",
       "    .dataframe tbody tr th {\n",
       "        vertical-align: top;\n",
       "    }\n",
       "\n",
       "    .dataframe thead th {\n",
       "        text-align: right;\n",
       "    }\n",
       "</style>\n",
       "<table border=\"1\" class=\"dataframe\">\n",
       "  <thead>\n",
       "    <tr style=\"text-align: right;\">\n",
       "      <th></th>\n",
       "      <th>CustID</th>\n",
       "      <th>FirstPolYear</th>\n",
       "      <th>BirthYear</th>\n",
       "      <th>EducDeg</th>\n",
       "      <th>MonthSal</th>\n",
       "      <th>GeoLivArea</th>\n",
       "      <th>Children</th>\n",
       "      <th>CustMonVal</th>\n",
       "      <th>ClaimsRate</th>\n",
       "      <th>PremMotor</th>\n",
       "      <th>PremHousehold</th>\n",
       "      <th>PremHealth</th>\n",
       "      <th>PremLife</th>\n",
       "      <th>PremWork</th>\n",
       "    </tr>\n",
       "  </thead>\n",
       "  <tbody>\n",
       "    <tr>\n",
       "      <th>0</th>\n",
       "      <td>1.0</td>\n",
       "      <td>1985.0</td>\n",
       "      <td>1982.0</td>\n",
       "      <td>b'2 - High School'</td>\n",
       "      <td>2177.0</td>\n",
       "      <td>1.0</td>\n",
       "      <td>1.0</td>\n",
       "      <td>380.97</td>\n",
       "      <td>0.39</td>\n",
       "      <td>375.85</td>\n",
       "      <td>79.45</td>\n",
       "      <td>146.36</td>\n",
       "      <td>47.01</td>\n",
       "      <td>16.89</td>\n",
       "    </tr>\n",
       "    <tr>\n",
       "      <th>2</th>\n",
       "      <td>3.0</td>\n",
       "      <td>1991.0</td>\n",
       "      <td>1970.0</td>\n",
       "      <td>b'1 - Basic'</td>\n",
       "      <td>2277.0</td>\n",
       "      <td>3.0</td>\n",
       "      <td>0.0</td>\n",
       "      <td>504.67</td>\n",
       "      <td>0.28</td>\n",
       "      <td>206.15</td>\n",
       "      <td>224.50</td>\n",
       "      <td>124.58</td>\n",
       "      <td>86.35</td>\n",
       "      <td>99.02</td>\n",
       "    </tr>\n",
       "    <tr>\n",
       "      <th>3</th>\n",
       "      <td>4.0</td>\n",
       "      <td>1990.0</td>\n",
       "      <td>1981.0</td>\n",
       "      <td>b'3 - BSc/MSc'</td>\n",
       "      <td>1099.0</td>\n",
       "      <td>4.0</td>\n",
       "      <td>1.0</td>\n",
       "      <td>-16.99</td>\n",
       "      <td>0.99</td>\n",
       "      <td>182.48</td>\n",
       "      <td>43.35</td>\n",
       "      <td>311.17</td>\n",
       "      <td>35.34</td>\n",
       "      <td>28.34</td>\n",
       "    </tr>\n",
       "    <tr>\n",
       "      <th>4</th>\n",
       "      <td>5.0</td>\n",
       "      <td>1986.0</td>\n",
       "      <td>1973.0</td>\n",
       "      <td>b'3 - BSc/MSc'</td>\n",
       "      <td>1763.0</td>\n",
       "      <td>4.0</td>\n",
       "      <td>1.0</td>\n",
       "      <td>35.23</td>\n",
       "      <td>0.90</td>\n",
       "      <td>338.62</td>\n",
       "      <td>47.80</td>\n",
       "      <td>182.59</td>\n",
       "      <td>18.78</td>\n",
       "      <td>41.45</td>\n",
       "    </tr>\n",
       "    <tr>\n",
       "      <th>5</th>\n",
       "      <td>6.0</td>\n",
       "      <td>1986.0</td>\n",
       "      <td>1956.0</td>\n",
       "      <td>b'2 - High School'</td>\n",
       "      <td>2566.0</td>\n",
       "      <td>4.0</td>\n",
       "      <td>1.0</td>\n",
       "      <td>-24.33</td>\n",
       "      <td>1.00</td>\n",
       "      <td>440.75</td>\n",
       "      <td>18.90</td>\n",
       "      <td>114.80</td>\n",
       "      <td>7.00</td>\n",
       "      <td>7.67</td>\n",
       "    </tr>\n",
       "  </tbody>\n",
       "</table>\n",
       "</div>"
      ],
      "text/plain": [
       "   CustID  FirstPolYear  BirthYear             EducDeg  MonthSal GeoLivArea  \\\n",
       "0     1.0        1985.0     1982.0  b'2 - High School'    2177.0        1.0   \n",
       "2     3.0        1991.0     1970.0        b'1 - Basic'    2277.0        3.0   \n",
       "3     4.0        1990.0     1981.0      b'3 - BSc/MSc'    1099.0        4.0   \n",
       "4     5.0        1986.0     1973.0      b'3 - BSc/MSc'    1763.0        4.0   \n",
       "5     6.0        1986.0     1956.0  b'2 - High School'    2566.0        4.0   \n",
       "\n",
       "  Children  CustMonVal  ClaimsRate  PremMotor  PremHousehold  PremHealth  \\\n",
       "0      1.0      380.97        0.39     375.85          79.45      146.36   \n",
       "2      0.0      504.67        0.28     206.15         224.50      124.58   \n",
       "3      1.0      -16.99        0.99     182.48          43.35      311.17   \n",
       "4      1.0       35.23        0.90     338.62          47.80      182.59   \n",
       "5      1.0      -24.33        1.00     440.75          18.90      114.80   \n",
       "\n",
       "   PremLife  PremWork  \n",
       "0     47.01     16.89  \n",
       "2     86.35     99.02  \n",
       "3     35.34     28.34  \n",
       "4     18.78     41.45  \n",
       "5      7.00      7.67  "
      ]
     },
     "execution_count": 22,
     "metadata": {},
     "output_type": "execute_result"
    }
   ],
   "source": [
    "df.head()"
   ]
  },
  {
   "cell_type": "code",
   "execution_count": 6,
   "id": "cc63fb85",
   "metadata": {},
   "outputs": [
    {
     "data": {
      "text/plain": [
       "3"
      ]
     },
     "execution_count": 6,
     "metadata": {},
     "output_type": "execute_result"
    }
   ],
   "source": [
    "#checking for ducplicates in dataset\n",
    "df.duplicated(df.columns[1:]).sum()"
   ]
  },
  {
   "cell_type": "code",
   "execution_count": 7,
   "id": "7be7b64e",
   "metadata": {},
   "outputs": [
    {
     "name": "stdout",
     "output_type": "stream",
     "text": [
      "Now, the dataset has 10293 rows.\n"
     ]
    }
   ],
   "source": [
    "#remove duplicated rows\n",
    "df.drop_duplicates(df.columns[1:], inplace = True)\n",
    "print('Now, the dataset has', df.shape[0], 'rows.')"
   ]
  },
  {
   "cell_type": "code",
   "execution_count": 8,
   "id": "2ef4f5df",
   "metadata": {
    "scrolled": true
   },
   "outputs": [
    {
     "name": "stdout",
     "output_type": "stream",
     "text": [
      "<class 'pandas.core.frame.DataFrame'>\n",
      "Int64Index: 10293 entries, 0 to 10295\n",
      "Data columns (total 14 columns):\n",
      " #   Column         Non-Null Count  Dtype  \n",
      "---  ------         --------------  -----  \n",
      " 0   CustID         10293 non-null  float64\n",
      " 1   FirstPolYear   10263 non-null  float64\n",
      " 2   BirthYear      10276 non-null  float64\n",
      " 3   EducDeg        10276 non-null  object \n",
      " 4   MonthSal       10257 non-null  float64\n",
      " 5   GeoLivArea     10292 non-null  float64\n",
      " 6   Children       10272 non-null  float64\n",
      " 7   CustMonVal     10293 non-null  float64\n",
      " 8   ClaimsRate     10293 non-null  float64\n",
      " 9   PremMotor      10259 non-null  float64\n",
      " 10  PremHousehold  10293 non-null  float64\n",
      " 11  PremHealth     10250 non-null  float64\n",
      " 12  PremLife       10189 non-null  float64\n",
      " 13  PremWork       10207 non-null  float64\n",
      "dtypes: float64(13), object(1)\n",
      "memory usage: 1.2+ MB\n"
     ]
    }
   ],
   "source": [
    "df.info()"
   ]
  },
  {
   "cell_type": "code",
   "execution_count": 9,
   "id": "7d3a6d8b",
   "metadata": {},
   "outputs": [
    {
     "data": {
      "text/plain": [
       "CustID             0\n",
       "FirstPolYear      30\n",
       "BirthYear         17\n",
       "EducDeg           17\n",
       "MonthSal          36\n",
       "GeoLivArea         1\n",
       "Children          21\n",
       "CustMonVal         0\n",
       "ClaimsRate         0\n",
       "PremMotor         34\n",
       "PremHousehold      0\n",
       "PremHealth        43\n",
       "PremLife         104\n",
       "PremWork          86\n",
       "dtype: int64"
      ]
     },
     "execution_count": 9,
     "metadata": {},
     "output_type": "execute_result"
    }
   ],
   "source": [
    "#cheking how many missing values are in dataset\n",
    "df.isna().sum()"
   ]
  },
  {
   "cell_type": "markdown",
   "id": "ec1176c6",
   "metadata": {},
   "source": [
    "**There are several missing values in different features.**  \n",
    "This issue will be adressed and taken care of later in this analysis."
   ]
  },
  {
   "cell_type": "code",
   "execution_count": 10,
   "id": "85184e37",
   "metadata": {},
   "outputs": [
    {
     "data": {
      "text/plain": [
       "Index(['CustID', 'FirstPolYear', 'BirthYear', 'EducDeg', 'MonthSal',\n",
       "       'GeoLivArea', 'Children', 'CustMonVal', 'ClaimsRate', 'PremMotor',\n",
       "       'PremHousehold', 'PremHealth', 'PremLife', 'PremWork'],\n",
       "      dtype='object')"
      ]
     },
     "execution_count": 10,
     "metadata": {},
     "output_type": "execute_result"
    }
   ],
   "source": [
    "df.columns"
   ]
  },
  {
   "cell_type": "markdown",
   "id": "bc2c4d02",
   "metadata": {},
   "source": [
    "The dataset has both **categorical features** (EducDeg, GeoLivArea, Children) and numeric ones. Some of the categorical feautres are types as being **floats** (this is the case of GeoLivArea and Children) **instead of objects**. This can pose a future issue, therefore those categorical features must have their type corrected."
   ]
  },
  {
   "cell_type": "code",
   "execution_count": 11,
   "id": "1cac0eca",
   "metadata": {},
   "outputs": [],
   "source": [
    "#correcting the type of categorical features\n",
    "df['GeoLivArea']=df['GeoLivArea'].astype(object)\n",
    "df['Children']=df['Children'].astype(object)"
   ]
  },
  {
   "cell_type": "markdown",
   "id": "bad73e29",
   "metadata": {},
   "source": [
    "Let's take a look into the descriptive statistics! "
   ]
  },
  {
   "cell_type": "code",
   "execution_count": 12,
   "id": "48942db5",
   "metadata": {},
   "outputs": [
    {
     "data": {
      "text/html": [
       "<div>\n",
       "<style scoped>\n",
       "    .dataframe tbody tr th:only-of-type {\n",
       "        vertical-align: middle;\n",
       "    }\n",
       "\n",
       "    .dataframe tbody tr th {\n",
       "        vertical-align: top;\n",
       "    }\n",
       "\n",
       "    .dataframe thead th {\n",
       "        text-align: right;\n",
       "    }\n",
       "</style>\n",
       "<table border=\"1\" class=\"dataframe\">\n",
       "  <thead>\n",
       "    <tr style=\"text-align: right;\">\n",
       "      <th></th>\n",
       "      <th>count</th>\n",
       "      <th>mean</th>\n",
       "      <th>std</th>\n",
       "      <th>min</th>\n",
       "      <th>25%</th>\n",
       "      <th>50%</th>\n",
       "      <th>75%</th>\n",
       "      <th>max</th>\n",
       "    </tr>\n",
       "  </thead>\n",
       "  <tbody>\n",
       "    <tr>\n",
       "      <th>CustID</th>\n",
       "      <td>10293.0</td>\n",
       "      <td>5147.504712</td>\n",
       "      <td>2972.180611</td>\n",
       "      <td>1.00</td>\n",
       "      <td>2574.00</td>\n",
       "      <td>5147.00</td>\n",
       "      <td>7720.00</td>\n",
       "      <td>10296.00</td>\n",
       "    </tr>\n",
       "    <tr>\n",
       "      <th>FirstPolYear</th>\n",
       "      <td>10263.0</td>\n",
       "      <td>1991.064893</td>\n",
       "      <td>511.342617</td>\n",
       "      <td>1974.00</td>\n",
       "      <td>1980.00</td>\n",
       "      <td>1986.00</td>\n",
       "      <td>1992.00</td>\n",
       "      <td>53784.00</td>\n",
       "    </tr>\n",
       "    <tr>\n",
       "      <th>BirthYear</th>\n",
       "      <td>10276.0</td>\n",
       "      <td>1968.006909</td>\n",
       "      <td>19.710742</td>\n",
       "      <td>1028.00</td>\n",
       "      <td>1953.00</td>\n",
       "      <td>1968.00</td>\n",
       "      <td>1983.00</td>\n",
       "      <td>2001.00</td>\n",
       "    </tr>\n",
       "    <tr>\n",
       "      <th>MonthSal</th>\n",
       "      <td>10257.0</td>\n",
       "      <td>2506.618699</td>\n",
       "      <td>1157.518390</td>\n",
       "      <td>333.00</td>\n",
       "      <td>1706.00</td>\n",
       "      <td>2502.00</td>\n",
       "      <td>3290.00</td>\n",
       "      <td>55215.00</td>\n",
       "    </tr>\n",
       "    <tr>\n",
       "      <th>CustMonVal</th>\n",
       "      <td>10293.0</td>\n",
       "      <td>177.929963</td>\n",
       "      <td>1946.091554</td>\n",
       "      <td>-165680.42</td>\n",
       "      <td>-9.44</td>\n",
       "      <td>187.03</td>\n",
       "      <td>399.86</td>\n",
       "      <td>11875.89</td>\n",
       "    </tr>\n",
       "    <tr>\n",
       "      <th>ClaimsRate</th>\n",
       "      <td>10293.0</td>\n",
       "      <td>0.742728</td>\n",
       "      <td>2.917385</td>\n",
       "      <td>0.00</td>\n",
       "      <td>0.39</td>\n",
       "      <td>0.72</td>\n",
       "      <td>0.98</td>\n",
       "      <td>256.20</td>\n",
       "    </tr>\n",
       "    <tr>\n",
       "      <th>PremMotor</th>\n",
       "      <td>10259.0</td>\n",
       "      <td>300.501550</td>\n",
       "      <td>211.937740</td>\n",
       "      <td>-4.11</td>\n",
       "      <td>190.59</td>\n",
       "      <td>298.61</td>\n",
       "      <td>408.30</td>\n",
       "      <td>11604.42</td>\n",
       "    </tr>\n",
       "    <tr>\n",
       "      <th>PremHousehold</th>\n",
       "      <td>10293.0</td>\n",
       "      <td>210.419863</td>\n",
       "      <td>352.635041</td>\n",
       "      <td>-75.00</td>\n",
       "      <td>49.45</td>\n",
       "      <td>132.80</td>\n",
       "      <td>290.05</td>\n",
       "      <td>25048.80</td>\n",
       "    </tr>\n",
       "    <tr>\n",
       "      <th>PremHealth</th>\n",
       "      <td>10250.0</td>\n",
       "      <td>171.553183</td>\n",
       "      <td>296.444399</td>\n",
       "      <td>-2.11</td>\n",
       "      <td>111.80</td>\n",
       "      <td>162.81</td>\n",
       "      <td>219.04</td>\n",
       "      <td>28272.00</td>\n",
       "    </tr>\n",
       "    <tr>\n",
       "      <th>PremLife</th>\n",
       "      <td>10189.0</td>\n",
       "      <td>41.848724</td>\n",
       "      <td>47.484264</td>\n",
       "      <td>-7.00</td>\n",
       "      <td>9.89</td>\n",
       "      <td>25.56</td>\n",
       "      <td>57.79</td>\n",
       "      <td>398.30</td>\n",
       "    </tr>\n",
       "    <tr>\n",
       "      <th>PremWork</th>\n",
       "      <td>10207.0</td>\n",
       "      <td>41.283712</td>\n",
       "      <td>51.519022</td>\n",
       "      <td>-12.00</td>\n",
       "      <td>10.67</td>\n",
       "      <td>25.67</td>\n",
       "      <td>56.79</td>\n",
       "      <td>1988.70</td>\n",
       "    </tr>\n",
       "  </tbody>\n",
       "</table>\n",
       "</div>"
      ],
      "text/plain": [
       "                 count         mean          std        min      25%      50%  \\\n",
       "CustID         10293.0  5147.504712  2972.180611       1.00  2574.00  5147.00   \n",
       "FirstPolYear   10263.0  1991.064893   511.342617    1974.00  1980.00  1986.00   \n",
       "BirthYear      10276.0  1968.006909    19.710742    1028.00  1953.00  1968.00   \n",
       "MonthSal       10257.0  2506.618699  1157.518390     333.00  1706.00  2502.00   \n",
       "CustMonVal     10293.0   177.929963  1946.091554 -165680.42    -9.44   187.03   \n",
       "ClaimsRate     10293.0     0.742728     2.917385       0.00     0.39     0.72   \n",
       "PremMotor      10259.0   300.501550   211.937740      -4.11   190.59   298.61   \n",
       "PremHousehold  10293.0   210.419863   352.635041     -75.00    49.45   132.80   \n",
       "PremHealth     10250.0   171.553183   296.444399      -2.11   111.80   162.81   \n",
       "PremLife       10189.0    41.848724    47.484264      -7.00     9.89    25.56   \n",
       "PremWork       10207.0    41.283712    51.519022     -12.00    10.67    25.67   \n",
       "\n",
       "                   75%       max  \n",
       "CustID         7720.00  10296.00  \n",
       "FirstPolYear   1992.00  53784.00  \n",
       "BirthYear      1983.00   2001.00  \n",
       "MonthSal       3290.00  55215.00  \n",
       "CustMonVal      399.86  11875.89  \n",
       "ClaimsRate        0.98    256.20  \n",
       "PremMotor       408.30  11604.42  \n",
       "PremHousehold   290.05  25048.80  \n",
       "PremHealth      219.04  28272.00  \n",
       "PremLife         57.79    398.30  \n",
       "PremWork         56.79   1988.70  "
      ]
     },
     "execution_count": 12,
     "metadata": {},
     "output_type": "execute_result"
    }
   ],
   "source": [
    "df.describe().T #this only includes numeric features"
   ]
  },
  {
   "cell_type": "markdown",
   "id": "39b3ed37",
   "metadata": {},
   "source": [
    "Now let's check the **coherence of the data**!  \n",
    "Assumptions:  \n",
    " - One cannot be more than 120 years-old\n",
    " - One cannot have their 1st year policy after 2016\n",
    " - One cannot have their birth year be after their 1st year policy\n",
    " - One cannot be less than 16 and not have finished high school to have a job \n",
    " - One cannot have finished their degree with less than 18 years-old\n",
    " - One cannot spend more money than they own  "
   ]
  },
  {
   "cell_type": "code",
   "execution_count": 30,
   "id": "0a16ce53",
   "metadata": {},
   "outputs": [],
   "source": [
    "#removing all inciherent rows from dataset \n",
    "df.drop(df[(df.BirthYear<1896)|(df.BirthYear>2016)].index, inplace = True)\n",
    "df.drop(df[df.FirstPolYear>2016].index, inplace=True)\n",
    "df.drop(df[df.BirthYear>df.FirstPolYear].index, inplace=True)\n",
    "df.drop(df[(df.BirthYear>2000) & (df.MonthSal>0) & (df.EducDeg==b'1 - Basic')].index, inplace=True)\n",
    "df.drop(df[(df.BirthYear>1998) & ((df.EducDeg==b'3 - BSc/MSc')|(df.EducDeg==b'4 - PhD'))].index,\n",
    "                                  inplace=True)"
   ]
  },
  {
   "cell_type": "code",
   "execution_count": 29,
   "id": "2a8c3de1",
   "metadata": {},
   "outputs": [],
   "source": [
    "#create function to compute the sum of the values of Premiums of each row\n",
    "def sum_(*args):\n",
    "    tot=0\n",
    "    for x in args:\n",
    "        tot+=x\n",
    "    return tot\n",
    "\n",
    "df.drop(df[sum_(df.PremMotor, df.PremHousehold, df.PremHealth, df.PremLife, df.PremWork)>df.MonthSal].index,\n",
    "       inplace=True)"
   ]
  },
  {
   "cell_type": "markdown",
   "id": "48324161",
   "metadata": {},
   "source": [
    "After removing incoherent rows, let's check if there are any incoherencies left."
   ]
  },
  {
   "cell_type": "code",
   "execution_count": 43,
   "id": "24ae4787",
   "metadata": {},
   "outputs": [
    {
     "name": "stdout",
     "output_type": "stream",
     "text": [
      "0 0 0 0 0 0 0\n"
     ]
    }
   ],
   "source": [
    "print((df.BirthYear<1896).sum(), (df.BirthYear>2016).sum(), (df.FirstPolYear>2016).sum(),\n",
    "(df.BirthYear>df.FirstPolYear).sum(),((df.BirthYear>2000) & (df.MonthSal>0) & (df.EducDeg==b'1 - Basic')).sum(),\n",
    "((df.BirthYear>1998) & ((df.EducDeg==b'3 - BSc/MSc')|(df.EducDeg==b'4 - PhD'))).sum(),\n",
    "(sum_(df.PremMotor, df.PremHousehold, df.PremHealth, df.PremLife, df.PremWork)>df.MonthSal).sum())"
   ]
  },
  {
   "cell_type": "markdown",
   "id": "812b7ecb",
   "metadata": {},
   "source": [
    "There are no incoherent values!"
   ]
  },
  {
   "cell_type": "markdown",
   "id": "7964d2cd",
   "metadata": {},
   "source": [
    "**Divide and conquer!**  \n",
    "Let's now devide the several features into **numeric** and **non-numeric** ones will to ease future steps in this analysis."
   ]
  },
  {
   "cell_type": "code",
   "execution_count": 44,
   "id": "d33aa692",
   "metadata": {},
   "outputs": [],
   "source": [
    "#dividing features and store them into 2 lists\n",
    "non_metric_feat = [\"EducDeg\", \"GeoLivArea\", \"Children\"]\n",
    "metric_feat = df.columns.drop(non_metric_feat).to_list()"
   ]
  },
  {
   "cell_type": "code",
   "execution_count": null,
   "id": "3abc77f8",
   "metadata": {},
   "outputs": [],
   "source": []
  },
  {
   "cell_type": "code",
   "execution_count": null,
   "id": "caf4ea4a",
   "metadata": {},
   "outputs": [],
   "source": []
  }
 ],
 "metadata": {
  "kernelspec": {
   "display_name": "Python 3 (ipykernel)",
   "language": "python",
   "name": "python3"
  },
  "language_info": {
   "codemirror_mode": {
    "name": "ipython",
    "version": 3
   },
   "file_extension": ".py",
   "mimetype": "text/x-python",
   "name": "python",
   "nbconvert_exporter": "python",
   "pygments_lexer": "ipython3",
   "version": "3.9.12"
  }
 },
 "nbformat": 4,
 "nbformat_minor": 5
}
