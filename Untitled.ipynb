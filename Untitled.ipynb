{
 "cells": [
  {
   "cell_type": "markdown",
   "id": "14f33c97",
   "metadata": {},
   "source": [
    "## DATA MINING PROJECT  - Customer Segmentation\n",
    "\n",
    "**Group Members:**  \n",
    "Beatriz Carmo - 20220685  \n",
    "Marta Antunes - 20221094 \n",
    "Tomás Corte-Real - 20221639\n",
    "\n",
    "**Msc:** Data Science and Advanced Analytics - Major in Bussiness Ananlytics @ NOVA IMS  \n",
    "**Course:** Data Mining  \n",
    "2022/2023\n",
    "\n",
    "GitHub Repository Link: "
   ]
  },
  {
   "cell_type": "markdown",
   "id": "e22f5e7d",
   "metadata": {},
   "source": [
    "# Table of Contents"
   ]
  },
  {
   "cell_type": "markdown",
   "id": "4737f957",
   "metadata": {},
   "source": [
    "# 1. Imports"
   ]
  },
  {
   "cell_type": "code",
   "execution_count": 8,
   "id": "aac6cb84",
   "metadata": {},
   "outputs": [
    {
     "name": "stdout",
     "output_type": "stream",
     "text": [
      "Collecting sompy\n",
      "  Downloading sompy-0.1.1.tar.gz (2.7 kB)\n",
      "Requirement already satisfied: numpy in c:\\users\\bia\\anaconda3\\lib\\site-packages (from sompy) (1.21.5)\n",
      "Building wheels for collected packages: sompy\n",
      "  Building wheel for sompy (setup.py): started\n",
      "  Building wheel for sompy (setup.py): finished with status 'done'\n",
      "  Created wheel for sompy: filename=sompy-0.1.1-py2.py3-none-any.whl size=3084 sha256=3a0c0d096e2eeedc371e73732ff4c3852a79caffcb077ce81cac1b0bee0a6b10\n",
      "  Stored in directory: c:\\users\\bia\\appdata\\local\\pip\\cache\\wheels\\23\\17\\a6\\ad238a6d6a5c7f8a9a027d980afe2360ac120a6661bc5fcd61\n",
      "Successfully built sompy\n",
      "Installing collected packages: sompy\n",
      "Successfully installed sompy-0.1.1\n"
     ]
    },
    {
     "name": "stderr",
     "output_type": "stream",
     "text": [
      "WARNING: Ignoring invalid distribution -andas (c:\\users\\bia\\anaconda3\\lib\\site-packages)\n",
      "WARNING: Ignoring invalid distribution -andas (c:\\users\\bia\\anaconda3\\lib\\site-packages)\n",
      "WARNING: Ignoring invalid distribution -andas (c:\\users\\bia\\anaconda3\\lib\\site-packages)\n",
      "WARNING: Ignoring invalid distribution -andas (c:\\users\\bia\\anaconda3\\lib\\site-packages)\n",
      "WARNING: Ignoring invalid distribution -andas (c:\\users\\bia\\anaconda3\\lib\\site-packages)\n",
      "WARNING: Ignoring invalid distribution -andas (c:\\users\\bia\\anaconda3\\lib\\site-packages)\n",
      "WARNING: Ignoring invalid distribution -andas (c:\\users\\bia\\anaconda3\\lib\\site-packages)\n"
     ]
    }
   ],
   "source": [
    "#!pip install kmodes\n",
    "#!pip install sompy"
   ]
  },
  {
   "cell_type": "code",
   "execution_count": 1,
   "id": "d751741d",
   "metadata": {},
   "outputs": [
    {
     "ename": "ImportError",
     "evalue": "cannot import name 'SOM' from partially initialized module 'sompy' (most likely due to a circular import) (C:\\Users\\Bia\\anaconda3\\lib\\site-packages\\sompy\\__init__.py)",
     "output_type": "error",
     "traceback": [
      "\u001b[1;31m---------------------------------------------------------------------------\u001b[0m",
      "\u001b[1;31mImportError\u001b[0m                               Traceback (most recent call last)",
      "Input \u001b[1;32mIn [1]\u001b[0m, in \u001b[0;36m<cell line: 62>\u001b[1;34m()\u001b[0m\n\u001b[0;32m     46\u001b[0m \u001b[38;5;28;01mfrom\u001b[39;00m \u001b[38;5;21;01mscipy\u001b[39;00m\u001b[38;5;21;01m.\u001b[39;00m\u001b[38;5;21;01mcluster\u001b[39;00m \u001b[38;5;28;01mimport\u001b[39;00m hierarchy\n\u001b[0;32m     48\u001b[0m \u001b[38;5;66;03m#from kmodes.kmodes import KModes\u001b[39;00m\n\u001b[0;32m     49\u001b[0m \n\u001b[0;32m     50\u001b[0m \u001b[38;5;66;03m#from pylab import rcParams\u001b[39;00m\n\u001b[1;32m   (...)\u001b[0m\n\u001b[0;32m     59\u001b[0m \n\u001b[0;32m     60\u001b[0m \u001b[38;5;66;03m#from yellowbrick.cluster import KElbowVisualizer\u001b[39;00m\n\u001b[1;32m---> 62\u001b[0m \u001b[38;5;28;01mimport\u001b[39;00m \u001b[38;5;21;01msompy\u001b[39;00m \n\u001b[0;32m     63\u001b[0m \u001b[38;5;28;01mfrom\u001b[39;00m \u001b[38;5;21;01msompy\u001b[39;00m\u001b[38;5;21;01m.\u001b[39;00m\u001b[38;5;21;01mvisualization\u001b[39;00m\u001b[38;5;21;01m.\u001b[39;00m\u001b[38;5;21;01mmapview\u001b[39;00m \u001b[38;5;28;01mimport\u001b[39;00m View2D\n\u001b[0;32m     64\u001b[0m \u001b[38;5;28;01mfrom\u001b[39;00m \u001b[38;5;21;01msompy\u001b[39;00m\u001b[38;5;21;01m.\u001b[39;00m\u001b[38;5;21;01mvisualization\u001b[39;00m\u001b[38;5;21;01m.\u001b[39;00m\u001b[38;5;21;01mbmuhits\u001b[39;00m \u001b[38;5;28;01mimport\u001b[39;00m BmuHitsView\n",
      "File \u001b[1;32m~\\anaconda3\\lib\\site-packages\\sompy\\__init__.py:2\u001b[0m, in \u001b[0;36m<module>\u001b[1;34m\u001b[0m\n\u001b[1;32m----> 2\u001b[0m \u001b[38;5;28;01mfrom\u001b[39;00m \u001b[38;5;21;01msompy\u001b[39;00m \u001b[38;5;28;01mimport\u001b[39;00m SOM\n",
      "\u001b[1;31mImportError\u001b[0m: cannot import name 'SOM' from partially initialized module 'sompy' (most likely due to a circular import) (C:\\Users\\Bia\\anaconda3\\lib\\site-packages\\sompy\\__init__.py)"
     ]
    }
   ],
   "source": [
    "import warnings\n",
    "warnings.filterwarnings('ignore')\n",
    "\n",
    "import pandas as pd\n",
    "import numpy as np\n",
    "#import matplotlib.pylab as plt\n",
    "import seaborn as sns\n",
    "from math import ceil\n",
    "import matplotlib.pyplot as plt\n",
    "%matplotlib inline\n",
    "\n",
    "\n",
    "#from sklearn.neighbors import KNeighborsClassifier\n",
    "\n",
    "#import sklearn.preprocessing as prep\n",
    "#import statsmodels.api as statsm \n",
    "import sklearn\n",
    "from sklearn.neighbors import LocalOutlierFactor\n",
    "from sklearn.impute import KNNImputer\n",
    "from sklearn.cluster import KMeans\n",
    "from sklearn.preprocessing import MinMaxScaler, StandardScaler\n",
    "from sklearn.decomposition import PCA\n",
    "from sklearn.model_selection import train_test_split\n",
    "from sklearn.metrics import accuracy_score\n",
    "from sklearn.neighbors import NearestNeighbors\n",
    "from sklearn.cluster import DBSCAN\n",
    "from sklearn.cluster import AgglomerativeClustering\n",
    "from sklearn.tree import DecisionTreeClassifier\n",
    "from sklearn.manifold import TSNE\n",
    "from sklearn import tree\n",
    "from sklearn.metrics import silhouette_score, silhouette_samples\n",
    "#from scipy import stats\n",
    "\n",
    "#from sklearn.ensemble import RandomForestClassifier\n",
    "#from sklearn.feature_selection import SelectFromModel\n",
    "\n",
    "#from sklearn.ensemble import ExtraTreesClassifier\n",
    "\n",
    "from kmodes.kprototypes import KPrototypes\n",
    "#import pydotplus\n",
    "#from IPython.display import Image\n",
    "\n",
    "#Scipy\n",
    "import scipy\n",
    "from scipy.cluster.hierarchy import dendrogram, linkage\n",
    "from scipy.cluster import hierarchy\n",
    "\n",
    "#from kmodes.kmodes import KModes\n",
    "\n",
    "#from pylab import rcParams\n",
    "\n",
    "#import sklearn.metrics as sm\n",
    "\n",
    "#from sklearn import metrics\n",
    "\n",
    "#from mpl_toolkits.mplot3d import Axes3D\n",
    "\n",
    "#from sklearn import mixture\n",
    "\n",
    "#from yellowbrick.cluster import KElbowVisualizer\n",
    "\n",
    "import sompy \n",
    "from sompy.visualization.mapview import View2D\n",
    "from sompy.visualization.bmuhits import BmuHitsView\n",
    "from sompy.visualization.hitmap import HitMapView\n",
    "from sompy.sompy import SOMFactory\n",
    "\n",
    "from umap import UMAP\n",
    "import plotly.express as px\n",
    "# from sompy.visualization.plot_tools import plot_hex_map\n",
    "# from sompy.visualization.mapview import View2DPacked\n",
    "\n",
    "#from sklearn.base import clone\n",
    "\n",
    "#from sklearn.metrics import pairwise_distances\n",
    "import logging\n",
    "logging.getLogger('matplotlib.font_manager').disabled = True\n",
    "logging.getLogger(\"matplotlib\").setLevel(logging.WARNING)\n",
    "\n",
    "#from datetime import datetime\n",
    "#from datetime import date\n",
    "#from scipy.stats import chi2_contingency\n",
    "\n",
    "#import matplotlib.cm as cm"
   ]
  }
 ],
 "metadata": {
  "kernelspec": {
   "display_name": "Python 3 (ipykernel)",
   "language": "python",
   "name": "python3"
  },
  "language_info": {
   "codemirror_mode": {
    "name": "ipython",
    "version": 3
   },
   "file_extension": ".py",
   "mimetype": "text/x-python",
   "name": "python",
   "nbconvert_exporter": "python",
   "pygments_lexer": "ipython3",
   "version": "3.9.12"
  }
 },
 "nbformat": 4,
 "nbformat_minor": 5
}
